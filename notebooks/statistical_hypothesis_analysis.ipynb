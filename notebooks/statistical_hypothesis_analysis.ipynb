{
 "cells": [
  {
   "cell_type": "code",
   "execution_count": 1,
   "metadata": {},
   "outputs": [
    {
     "name": "stderr",
     "output_type": "stream",
     "text": [
      "C:\\Users\\tsega\\AppData\\Local\\Temp\\ipykernel_25136\\3946650220.py:2: DtypeWarning: Columns (32,37) have mixed types. Specify dtype option on import or set low_memory=False.\n",
      "  df_raw = pd.read_csv('../data/MachineLearningRating_v3.txt', delimiter='|')\n"
     ]
    },
    {
     "name": "stdout",
     "output_type": "stream",
     "text": [
      "TotalClaims\n",
      "0.000000        997305\n",
      "6140.350877        326\n",
      "750.649123         101\n",
      "1300.000000         59\n",
      "850.000000          51\n",
      "                 ...  \n",
      "15544.736842         1\n",
      "37094.973684         1\n",
      "2156.701754          1\n",
      "14867.500000         1\n",
      "74967.017544         1\n",
      "Name: count, Length: 1615, dtype: int64\n",
      "2788\n"
     ]
    }
   ],
   "source": [
    "import pandas as pd\n",
    "df_raw = pd.read_csv('../data/MachineLearningRating_v3.txt', delimiter='|')\n",
    "\n",
    "# Check claim distribution\n",
    "print(df_raw['TotalClaims'].value_counts())\n",
    "\n",
    "# See how many rows had actual claims\n",
    "print((df_raw['TotalClaims'] > 0).sum())"
   ]
  },
  {
   "cell_type": "code",
   "execution_count": 2,
   "metadata": {},
   "outputs": [
    {
     "name": "stdout",
     "output_type": "stream",
     "text": [
      "[',UnderwrittenCoverID,PolicyID,TransactionMonth,IsVATRegistered,Citizenship,LegalType,Title,Language,Bank,AccountType,MaritalStatus,Gender,Country,Province,PostalCode,MainCrestaZone,SubCrestaZone,ItemType,mmcode,VehicleType,RegistrationYear,make,Model,Cylinders,cubiccapacity,kilowatts,bodytype,NumberOfDoors,VehicleIntroDate,AlarmImmobiliser,TrackingDevice,CapitalOutstanding,SumInsured,TermFrequency,CalculatedPremiumPerTerm,ExcessSelected,CoverCategory,CoverType,CoverGroup,Section,Product,StatutoryClass,StatutoryRiskType,TotalPremium,TotalClaims']\n"
     ]
    }
   ],
   "source": [
    "import pandas as pd\n",
    "df_raw = pd.read_csv('../data/cleaned_insurance_analysis.csv', delimiter='|')\n",
    "\n",
    "print(df_raw.columns.tolist())\n",
    "# Check claim distribution\n"
   ]
  },
  {
   "cell_type": "code",
   "execution_count": 3,
   "metadata": {},
   "outputs": [
    {
     "name": "stderr",
     "output_type": "stream",
     "text": [
      "C:\\Users\\tsega\\AppData\\Local\\Temp\\ipykernel_25136\\1346372693.py:1: DtypeWarning: Columns (32) have mixed types. Specify dtype option on import or set low_memory=False.\n",
      "  df_raw = pd.read_csv('../data/cleaned_insurance_analysis.csv')\n"
     ]
    }
   ],
   "source": [
    "df_raw = pd.read_csv('../data/cleaned_insurance_analysis.csv')\n",
    "df_raw.columns = [col.strip().lstrip(',') for col in df_raw.columns]  # remove stray commas and spaces\n"
   ]
  },
  {
   "cell_type": "code",
   "execution_count": 4,
   "metadata": {},
   "outputs": [
    {
     "data": {
      "text/plain": [
       "TotalClaims\n",
       "0.000000        996764\n",
       "6140.350877        326\n",
       "750.649123         101\n",
       "1300.000000         59\n",
       "850.000000          49\n",
       "                 ...  \n",
       "42815.175439         1\n",
       "28628.947368         1\n",
       "15544.736842         1\n",
       "37094.973684         1\n",
       "46492.211754         1\n",
       "Name: count, Length: 1606, dtype: int64"
      ]
     },
     "execution_count": 4,
     "metadata": {},
     "output_type": "execute_result"
    }
   ],
   "source": [
    "df_raw['TotalClaims'].value_counts()\n"
   ]
  },
  {
   "cell_type": "code",
   "execution_count": 5,
   "metadata": {},
   "outputs": [],
   "source": [
    "import sys\n",
    "sys.path.append('../scripts')\n",
    "\n",
    "from statistical_hypothesis_testing import (\n",
    "    compute_kpis,\n",
    "    t_test_by_gender,\n",
    "    chi_square_by_province,\n",
    "    t_test_margin_by_zip,\n",
    "    chi_square_by_zip\n",
    ")\n"
   ]
  },
  {
   "cell_type": "code",
   "execution_count": 6,
   "metadata": {},
   "outputs": [],
   "source": [
    "\n",
    "df = compute_kpis(df_raw ,1000)"
   ]
  },
  {
   "cell_type": "code",
   "execution_count": 7,
   "metadata": {},
   "outputs": [
    {
     "name": "stdout",
     "output_type": "stream",
     "text": [
      "T-test by Gender: t=13.00, p=0.0046\n"
     ]
    }
   ],
   "source": [
    "t_stat, p_gender = t_test_by_gender(df)\n",
    "print(f\"T-test by Gender: t={t_stat:.2f}, p={p_gender:.4f}\")"
   ]
  },
  {
   "cell_type": "code",
   "execution_count": 8,
   "metadata": {},
   "outputs": [
    {
     "name": "stdout",
     "output_type": "stream",
     "text": [
      "Chi-squared by Province: chi2=110.73, p=0.0000\n"
     ]
    }
   ],
   "source": [
    "chi2_prov, p_prov = chi_square_by_province(df)\n",
    "print(f\"Chi-squared by Province: chi2={chi2_prov:.2f}, p={p_prov:.4f}\")"
   ]
  },
  {
   "cell_type": "code",
   "execution_count": 9,
   "metadata": {},
   "outputs": [
    {
     "name": "stdout",
     "output_type": "stream",
     "text": [
      "Chi-squared by Zip: chi2=0.15, p=0.6963\n"
     ]
    }
   ],
   "source": [
    "chi2_zip, p_zip = chi_square_by_zip(df, 7100, 1000)\n",
    "print(f\"Chi-squared by Zip: chi2={chi2_zip:.2f}, p={p_zip:.4f}\")"
   ]
  },
  {
   "cell_type": "code",
   "execution_count": 10,
   "metadata": {},
   "outputs": [
    {
     "name": "stdout",
     "output_type": "stream",
     "text": [
      "T-test Margin by Zip: t=-3.69, p=0.0002\n"
     ]
    }
   ],
   "source": [
    "t_margin, p_margin = t_test_margin_by_zip(df, 7100, 1000)\n",
    "print(f\"T-test Margin by Zip: t={t_margin:.2f}, p={p_margin:.4f}\")"
   ]
  },
  {
   "cell_type": "code",
   "execution_count": 11,
   "metadata": {},
   "outputs": [],
   "source": [
    "def interpret_result(test_name, p_value, alpha=0.05):\n",
    "    result = \"Reject\" if p_value < alpha else \"Fail to Reject\"\n",
    "    print(f\"{test_name}: {result} the null hypothesis (p = {p_value:.4f})\")"
   ]
  },
  {
   "cell_type": "code",
   "execution_count": 13,
   "metadata": {},
   "outputs": [
    {
     "name": "stdout",
     "output_type": "stream",
     "text": [
      "Gender Risk Test: Reject the null hypothesis (p = 0.0046)\n",
      "Province Risk Test: Reject the null hypothesis (p = 0.0000)\n",
      "Gender Risk Test: Fail to Reject the null hypothesis (p = 0.6963)\n",
      "Province Risk Test: Reject the null hypothesis (p = 0.0002)\n"
     ]
    }
   ],
   "source": [
    "interpret_result(\"Gender Risk Test\", p_gender)\n",
    "interpret_result(\"Province Risk Test\", p_prov)\n",
    "interpret_result(\"Gender Risk Test\", p_zip)\n",
    "interpret_result(\"Province Risk Test\", p_margin)\n",
    "\n"
   ]
  }
 ],
 "metadata": {
  "kernelspec": {
   "display_name": ".venv",
   "language": "python",
   "name": "python3"
  },
  "language_info": {
   "codemirror_mode": {
    "name": "ipython",
    "version": 3
   },
   "file_extension": ".py",
   "mimetype": "text/x-python",
   "name": "python",
   "nbconvert_exporter": "python",
   "pygments_lexer": "ipython3",
   "version": "3.11.3"
  }
 },
 "nbformat": 4,
 "nbformat_minor": 2
}
